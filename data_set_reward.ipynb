{
 "cells": [
  {
   "cell_type": "code",
   "execution_count": 1,
   "metadata": {},
   "outputs": [
    {
     "name": "stdout",
     "output_type": "stream",
     "text": [
      "c:\\Users\\HomePC\\anaconda3\\envs\\Python-ds\\python.exe\n"
     ]
    }
   ],
   "source": [
    "import sys\n",
    "print(sys.executable)"
   ]
  },
  {
   "cell_type": "code",
   "execution_count": 2,
   "metadata": {},
   "outputs": [
    {
     "name": "stdout",
     "output_type": "stream",
     "text": [
      "Requirement already satisfied: pandas in c:\\users\\homepc\\anaconda3\\envs\\python-ds\\lib\\site-packages (2.2.2)\n",
      "Requirement already satisfied: numpy>=1.26.0 in c:\\users\\homepc\\anaconda3\\envs\\python-ds\\lib\\site-packages (from pandas) (2.1.1)\n",
      "Requirement already satisfied: python-dateutil>=2.8.2 in c:\\users\\homepc\\anaconda3\\envs\\python-ds\\lib\\site-packages (from pandas) (2.9.0)\n",
      "Requirement already satisfied: pytz>=2020.1 in c:\\users\\homepc\\anaconda3\\envs\\python-ds\\lib\\site-packages (from pandas) (2024.2)\n",
      "Requirement already satisfied: tzdata>=2022.7 in c:\\users\\homepc\\anaconda3\\envs\\python-ds\\lib\\site-packages (from pandas) (2024.1)\n",
      "Requirement already satisfied: six>=1.5 in c:\\users\\homepc\\anaconda3\\envs\\python-ds\\lib\\site-packages (from python-dateutil>=2.8.2->pandas) (1.16.0)\n"
     ]
    }
   ],
   "source": [
    "!pip install pandas"
   ]
  },
  {
   "cell_type": "code",
   "execution_count": 6,
   "metadata": {},
   "outputs": [],
   "source": [
    "import pandas as pd\n",
    "\n"
   ]
  },
  {
   "cell_type": "code",
   "execution_count": 11,
   "metadata": {},
   "outputs": [
    {
     "name": "stdout",
     "output_type": "stream",
     "text": [
      "['_Data Sets Reward_Program_Assignment_Input_v6 - TA.xlsx']\n"
     ]
    }
   ],
   "source": [
    "   import os\n",
    "   print([f for f in os.listdir() if f.endswith('.xlsx') or f.endswith('.csv')])"
   ]
  },
  {
   "cell_type": "code",
   "execution_count": 14,
   "metadata": {},
   "outputs": [
    {
     "name": "stdout",
     "output_type": "stream",
     "text": [
      "Collecting openpyxl\n",
      "  Downloading openpyxl-3.1.5-py2.py3-none-any.whl.metadata (2.5 kB)\n",
      "Collecting et-xmlfile (from openpyxl)\n",
      "  Downloading et_xmlfile-1.1.0-py3-none-any.whl.metadata (1.8 kB)\n",
      "Downloading openpyxl-3.1.5-py2.py3-none-any.whl (250 kB)\n",
      "   ---------------------------------------- 0.0/250.9 kB ? eta -:--:--\n",
      "   ---------------------------------------- 0.0/250.9 kB ? eta -:--:--\n",
      "   ---------------------------------------- 0.0/250.9 kB ? eta -:--:--\n",
      "   ---- ----------------------------------- 30.7/250.9 kB ? eta -:--:--\n",
      "   ------ -------------------------------- 41.0/250.9 kB 487.6 kB/s eta 0:00:01\n",
      "   ------------ -------------------------- 81.9/250.9 kB 573.4 kB/s eta 0:00:01\n",
      "   ----------------- -------------------- 112.6/250.9 kB 504.4 kB/s eta 0:00:01\n",
      "   --------------------- ---------------- 143.4/250.9 kB 473.7 kB/s eta 0:00:01\n",
      "   ------------------------ ------------- 163.8/250.9 kB 490.7 kB/s eta 0:00:01\n",
      "   ----------------------------- -------- 194.6/250.9 kB 491.5 kB/s eta 0:00:01\n",
      "   ----------------------------- -------- 194.6/250.9 kB 491.5 kB/s eta 0:00:01\n",
      "   -------------------------------------- 250.9/250.9 kB 466.4 kB/s eta 0:00:00\n",
      "Downloading et_xmlfile-1.1.0-py3-none-any.whl (4.7 kB)\n",
      "Installing collected packages: et-xmlfile, openpyxl\n",
      "Successfully installed et-xmlfile-1.1.0 openpyxl-3.1.5\n"
     ]
    }
   ],
   "source": [
    "   !pip install openpyxl"
   ]
  },
  {
   "cell_type": "code",
   "execution_count": 15,
   "metadata": {},
   "outputs": [],
   "source": [
    "   df = pd.read_excel('_Data Sets Reward_Program_Assignment_Input_v6 - TA.xlsx', engine='openpyxl')"
   ]
  },
  {
   "cell_type": "code",
   "execution_count": 16,
   "metadata": {},
   "outputs": [
    {
     "name": "stdout",
     "output_type": "stream",
     "text": [
      "   Mentor_ID     Mentor_Name  Mentee_Name  Session_Number  \\\n",
      "0       1001     Sarah Clark    Bob Brown               1   \n",
      "1       1003     Emily Davis  Carol White               2   \n",
      "2       1005    James Wilson   Jane Smith               2   \n",
      "3       1003     Emily Davis    Bob Brown               1   \n",
      "4       1002  David Thompson   Jane Smith               2   \n",
      "\n",
      "   Session_Duration_Min Job_Info_Completed Session_Date  Points_Awarded  \\\n",
      "0                    40                Yes   2023-01-01             NaN   \n",
      "1                    30                Yes   2023-01-08             NaN   \n",
      "2                    40                Yes   2023-01-15             NaN   \n",
      "3                    30                 No   2023-01-29             NaN   \n",
      "4                    50                 No   2023-02-05             NaN   \n",
      "\n",
      "   Unnamed: 8  Unnamed: 9  Unnamed: 10  Unnamed: 11   Mentor_Name.1  \\\n",
      "0         NaN         NaN          NaN          NaN     Sarah Clark   \n",
      "1         NaN         NaN          NaN          NaN  David Thompson   \n",
      "2         NaN         NaN          NaN          NaN     Emily Davis   \n",
      "3         NaN         NaN          NaN          NaN     Michael Lee   \n",
      "4         NaN         NaN          NaN          NaN    James Wilson   \n",
      "\n",
      "   Mentor_ID.1  \n",
      "0       1001.0  \n",
      "1       1002.0  \n",
      "2       1003.0  \n",
      "3       1004.0  \n",
      "4       1005.0  \n"
     ]
    }
   ],
   "source": [
    "print(df.head())"
   ]
  },
  {
   "cell_type": "code",
   "execution_count": 17,
   "metadata": {},
   "outputs": [
    {
     "name": "stdout",
     "output_type": "stream",
     "text": [
      "['Mentorship_Sessions', 'Raw_Reward_Data']\n"
     ]
    }
   ],
   "source": [
    "import pandas as pd\n",
    "\n",
    "# Read the Excel file\n",
    "excel_file = pd.ExcelFile('_Data Sets Reward_Program_Assignment_Input_v6 - TA.xlsx')\n",
    "\n",
    "# Print the sheet names\n",
    "print(excel_file.sheet_names)"
   ]
  },
  {
   "cell_type": "code",
   "execution_count": 18,
   "metadata": {},
   "outputs": [
    {
     "name": "stdout",
     "output_type": "stream",
     "text": [
      "   Mentor_ID     Mentor_Name  Mentee_Name  Session_Number  \\\n",
      "0       1001     Sarah Clark    Bob Brown               1   \n",
      "1       1003     Emily Davis  Carol White               2   \n",
      "2       1005    James Wilson   Jane Smith               2   \n",
      "3       1003     Emily Davis    Bob Brown               1   \n",
      "4       1002  David Thompson   Jane Smith               2   \n",
      "\n",
      "   Session_Duration_Min Job_Info_Completed Session_Date  Points_Awarded  \\\n",
      "0                    40                Yes   2023-01-01             NaN   \n",
      "1                    30                Yes   2023-01-08             NaN   \n",
      "2                    40                Yes   2023-01-15             NaN   \n",
      "3                    30                 No   2023-01-29             NaN   \n",
      "4                    50                 No   2023-02-05             NaN   \n",
      "\n",
      "   Unnamed: 8  Unnamed: 9  Unnamed: 10  Unnamed: 11   Mentor_Name.1  \\\n",
      "0         NaN         NaN          NaN          NaN     Sarah Clark   \n",
      "1         NaN         NaN          NaN          NaN  David Thompson   \n",
      "2         NaN         NaN          NaN          NaN     Emily Davis   \n",
      "3         NaN         NaN          NaN          NaN     Michael Lee   \n",
      "4         NaN         NaN          NaN          NaN    James Wilson   \n",
      "\n",
      "   Mentor_ID.1  \n",
      "0       1001.0  \n",
      "1       1002.0  \n",
      "2       1003.0  \n",
      "3       1004.0  \n",
      "4       1005.0  \n",
      "  Member_Name_Surname_Per_Redemption        Reward_Received     Brand  \\\n",
      "0                         Jane Smith       Amazon Gift Card    Amazon   \n",
      "1                     David Thompson  Coursera Subscription  Coursera   \n",
      "2                       James Wilson      Netflix Gift Card   Netflix   \n",
      "3                     David Thompson   Spotify Subscription   Spotify   \n",
      "4                      Alice Johnson      Spotify Gift Card   Spotify   \n",
      "\n",
      "   Reward_Value_Amount_in_Dollars  Time_to_Reward_Received_in_Seconds  \\\n",
      "0                              50                                  43   \n",
      "1                              10                                   9   \n",
      "2                              50                                   5   \n",
      "3                              50                                  23   \n",
      "4                              10                                  41   \n",
      "\n",
      "   Redemptions_by_User  Point_Value_per_Redemption  \\\n",
      "0                    8                         500   \n",
      "1                    2                         250   \n",
      "2                    9                         750   \n",
      "3                    5                         750   \n",
      "4                    7                        1000   \n",
      "\n",
      "   Satisfaction_Rating_on_Reward  Cost_Per_Redemption_in_Dollars Country  \n",
      "0                       3.906216                              66   Kenya  \n",
      "1                       3.797088                              67   Kenya  \n",
      "2                       4.372271                              72   Kenya  \n",
      "3                       4.209811                              24   Kenya  \n",
      "4                       3.767192                              41   Kenya  \n"
     ]
    }
   ],
   "source": [
    "# Read a specific sheet by name\n",
    "mentorship = pd.read_excel('_Data Sets Reward_Program_Assignment_Input_v6 - TA.xlsx', sheet_name='Mentorship_Sessions')\n",
    "\n",
    "# Print the first few rows of the first sheet\n",
    "print(mentorship.head())\n",
    "\n",
    "# Read another sheet\n",
    "reward = pd.read_excel('_Data Sets Reward_Program_Assignment_Input_v6 - TA.xlsx', sheet_name='Raw_Reward_Data')\n",
    "\n",
    "# Print the first few rows of the second sheet\n",
    "print(reward.head())"
   ]
  },
  {
   "cell_type": "code",
   "execution_count": 19,
   "metadata": {},
   "outputs": [
    {
     "name": "stdout",
     "output_type": "stream",
     "text": [
      "Number of rows before removing duplicates: 100\n",
      "Number of rows after removing duplicates: 100\n",
      "  Member_Name_Surname_Per_Redemption        Reward_Received     Brand  \\\n",
      "0                         Jane Smith       Amazon Gift Card    Amazon   \n",
      "1                     David Thompson  Coursera Subscription  Coursera   \n",
      "2                       James Wilson      Netflix Gift Card   Netflix   \n",
      "3                     David Thompson   Spotify Subscription   Spotify   \n",
      "4                      Alice Johnson      Spotify Gift Card   Spotify   \n",
      "\n",
      "   Reward_Value_Amount_in_Dollars  Time_to_Reward_Received_in_Seconds  \\\n",
      "0                              50                                  43   \n",
      "1                              10                                   9   \n",
      "2                              50                                   5   \n",
      "3                              50                                  23   \n",
      "4                              10                                  41   \n",
      "\n",
      "   Redemptions_by_User  Point_Value_per_Redemption  \\\n",
      "0                    8                         500   \n",
      "1                    2                         250   \n",
      "2                    9                         750   \n",
      "3                    5                         750   \n",
      "4                    7                        1000   \n",
      "\n",
      "   Satisfaction_Rating_on_Reward  Cost_Per_Redemption_in_Dollars Country  \n",
      "0                       3.906216                              66   Kenya  \n",
      "1                       3.797088                              67   Kenya  \n",
      "2                       4.372271                              72   Kenya  \n",
      "3                       4.209811                              24   Kenya  \n",
      "4                       3.767192                              41   Kenya  \n"
     ]
    }
   ],
   "source": [
    "\n",
    "# Read the 'Reward' sheet\n",
    "reward = pd.read_excel('_Data Sets Reward_Program_Assignment_Input_v6 - TA.xlsx', sheet_name='Raw_Reward_Data')\n",
    "\n",
    "# Print the number of rows before removing duplicates\n",
    "print(\"Number of rows before removing duplicates:\", len(reward))\n",
    "\n",
    "# Remove duplicates\n",
    "reward_no_duplicates = reward.drop_duplicates()\n",
    "\n",
    "# Print the number of rows after removing duplicates\n",
    "print(\"Number of rows after removing duplicates:\", len(reward_no_duplicates))\n",
    "\n",
    "# Display the first few rows of the deduplicated dataframe\n",
    "print(reward_no_duplicates.head())\n",
    "\n",
    "# If you want to save the deduplicated data back to Excel\n",
    "# reward_no_duplicates.to_excel('Reward_Data_No_Duplicates.xlsx', index=False)"
   ]
  },
  {
   "cell_type": "code",
   "execution_count": 20,
   "metadata": {},
   "outputs": [
    {
     "name": "stdout",
     "output_type": "stream",
     "text": [
      "Missing values:\n",
      " Member_Name_Surname_Per_Redemption    0\n",
      "Reward_Received                       0\n",
      "Brand                                 0\n",
      "Reward_Value_Amount_in_Dollars        0\n",
      "Time_to_Reward_Received_in_Seconds    0\n",
      "Redemptions_by_User                   0\n",
      "Point_Value_per_Redemption            0\n",
      "Satisfaction_Rating_on_Reward         0\n",
      "Cost_Per_Redemption_in_Dollars        0\n",
      "Country                               0\n",
      "dtype: int64\n",
      "\n",
      "Data types:\n",
      " Member_Name_Surname_Per_Redemption     object\n",
      "Reward_Received                        object\n",
      "Brand                                  object\n",
      "Reward_Value_Amount_in_Dollars          int64\n",
      "Time_to_Reward_Received_in_Seconds      int64\n",
      "Redemptions_by_User                     int64\n",
      "Point_Value_per_Redemption              int64\n",
      "Satisfaction_Rating_on_Reward         float64\n",
      "Cost_Per_Redemption_in_Dollars          int64\n",
      "Country                                object\n",
      "dtype: object\n",
      "\n",
      "Cleaned dataset info:\n",
      "<class 'pandas.core.frame.DataFrame'>\n",
      "RangeIndex: 100 entries, 0 to 99\n",
      "Data columns (total 10 columns):\n",
      " #   Column                              Non-Null Count  Dtype  \n",
      "---  ------                              --------------  -----  \n",
      " 0   Member_Name_Surname_Per_Redemption  100 non-null    object \n",
      " 1   Reward_Received                     100 non-null    object \n",
      " 2   Brand                               100 non-null    object \n",
      " 3   Reward_Value_Amount_in_Dollars      100 non-null    int64  \n",
      " 4   Time_to_Reward_Received_in_Seconds  100 non-null    int64  \n",
      " 5   Redemptions_by_User                 100 non-null    int64  \n",
      " 6   Point_Value_per_Redemption          100 non-null    int64  \n",
      " 7   Satisfaction_Rating_on_Reward       100 non-null    float64\n",
      " 8   Cost_Per_Redemption_in_Dollars      100 non-null    int64  \n",
      " 9   Country                             100 non-null    object \n",
      "dtypes: float64(1), int64(5), object(4)\n",
      "memory usage: 7.9+ KB\n",
      "None\n",
      "\n",
      "First few rows of cleaned data:\n",
      "  Member_Name_Surname_Per_Redemption        Reward_Received     Brand  \\\n",
      "0                         Jane Smith       Amazon Gift Card    Amazon   \n",
      "1                     David Thompson  Coursera Subscription  Coursera   \n",
      "2                       James Wilson      Netflix Gift Card   Netflix   \n",
      "3                     David Thompson   Spotify Subscription   Spotify   \n",
      "4                      Alice Johnson      Spotify Gift Card   Spotify   \n",
      "\n",
      "   Reward_Value_Amount_in_Dollars  Time_to_Reward_Received_in_Seconds  \\\n",
      "0                              50                                  43   \n",
      "1                              10                                   9   \n",
      "2                              50                                   5   \n",
      "3                              50                                  23   \n",
      "4                              10                                  41   \n",
      "\n",
      "   Redemptions_by_User  Point_Value_per_Redemption  \\\n",
      "0                    8                         500   \n",
      "1                    2                         250   \n",
      "2                    9                         750   \n",
      "3                    5                         750   \n",
      "4                    7                        1000   \n",
      "\n",
      "   Satisfaction_Rating_on_Reward  Cost_Per_Redemption_in_Dollars Country  \n",
      "0                       3.906216                              66   Kenya  \n",
      "1                       3.797088                              67   Kenya  \n",
      "2                       4.372271                              72   Kenya  \n",
      "3                       4.209811                              24   Kenya  \n",
      "4                       3.767192                              41   Kenya  \n"
     ]
    }
   ],
   "source": [
    "import pandas as pd\n",
    "import numpy as np\n",
    "\n",
    "# Read the 'Reward' sheet\n",
    "reward = pd.read_excel('_Data Sets Reward_Program_Assignment_Input_v6 - TA.xlsx', sheet_name='Raw_Reward_Data')\n",
    "\n",
    "# 1. Remove duplicates\n",
    "reward = reward.drop_duplicates()\n",
    "\n",
    "# 2. Check for missing values\n",
    "print(\"Missing values:\\n\", reward.isnull().sum())\n",
    "\n",
    "# 3. Handle missing values (fill or drop)\n",
    "reward = reward.fillna(0)  # Fill NaN with 0, or use appropriate method\n",
    "\n",
    "# 4. Check data types\n",
    "print(\"\\nData types:\\n\", reward.dtypes)\n",
    "\n",
    "# 5. Convert data types if necessary\n",
    "# For example, convert 'Date' column to datetime\n",
    "if 'Date' in reward.columns:\n",
    "    reward['Date'] = pd.to_datetime(reward['Date'], errors='coerce')\n",
    "\n",
    "# 6. Remove any leading/trailing whitespace in string columns\n",
    "reward = reward.apply(lambda x: x.str.strip() if x.dtype == \"object\" else x)\n",
    "\n",
    "# 7. Check for and remove any obvious outliers\n",
    "# This is a simple example, adjust based on your data\n",
    "for col in reward.select_dtypes(include=[np.number]).columns:\n",
    "    Q1 = reward[col].quantile(0.25)\n",
    "    Q3 = reward[col].quantile(0.75)\n",
    "    IQR = Q3 - Q1\n",
    "    lower_bound = Q1 - 1.5 * IQR\n",
    "    upper_bound = Q3 + 1.5 * IQR\n",
    "    reward = reward[(reward[col] >= lower_bound) & (reward[col] <= upper_bound)]\n",
    "\n",
    "# 8. Display info about the cleaned dataset\n",
    "print(\"\\nCleaned dataset info:\")\n",
    "print(reward.info())\n",
    "\n",
    "# 9. Display first few rows of cleaned data\n",
    "print(\"\\nFirst few rows of cleaned data:\")\n",
    "print(reward.head())\n",
    "\n",
    "# 10. Save cleaned data\n",
    "# reward.to_excel('Cleaned_Reward_Data.xlsx', index=False)"
   ]
  },
  {
   "cell_type": "code",
   "execution_count": 24,
   "metadata": {},
   "outputs": [
    {
     "name": "stdout",
     "output_type": "stream",
     "text": [
      "Shape before changes: (105, 14)\n",
      "\n",
      "First few rows after removing VLOOKUP table:\n",
      "   Mentor_ID     Mentor_Name  Mentee_Name  Session_Number  \\\n",
      "0       1001     Sarah Clark    Bob Brown               1   \n",
      "1       1003     Emily Davis  Carol White               2   \n",
      "2       1005    James Wilson   Jane Smith               2   \n",
      "3       1003     Emily Davis    Bob Brown               1   \n",
      "4       1002  David Thompson   Jane Smith               2   \n",
      "5       1004     Michael Lee   Jane Smith               2   \n",
      "6       1001     Sarah Clark     John Doe               2   \n",
      "7       1004     Michael Lee  Carol White               1   \n",
      "8       1001     Sarah Clark  Carol White               1   \n",
      "9       1005    James Wilson  Carol White               1   \n",
      "\n",
      "   Session_Duration_Min Job_Info_Completed Session_Date  Points_Awarded  \\\n",
      "0                    40                Yes   2023-01-01             NaN   \n",
      "1                    30                Yes   2023-01-08             NaN   \n",
      "2                    40                Yes   2023-01-15             NaN   \n",
      "3                    30                 No   2023-01-29             NaN   \n",
      "4                    50                 No   2023-02-05             NaN   \n",
      "5                    50                 No   2023-02-05             NaN   \n",
      "6                    40                Yes   2023-02-12             NaN   \n",
      "7                    30                 No   2023-02-19             NaN   \n",
      "8                    30                 No   2023-02-26             NaN   \n",
      "9                    40                 No   2023-03-05             NaN   \n",
      "\n",
      "   Unnamed: 8  Unnamed: 9  Unnamed: 10  Unnamed: 11 Mentor_Name.1 Mentor_ID.1  \n",
      "0         NaN         NaN          NaN          NaN                            \n",
      "1         NaN         NaN          NaN          NaN                            \n",
      "2         NaN         NaN          NaN          NaN                            \n",
      "3         NaN         NaN          NaN          NaN                            \n",
      "4         NaN         NaN          NaN          NaN                            \n",
      "5         NaN         NaN          NaN          NaN                            \n",
      "6         NaN         NaN          NaN          NaN                            \n",
      "7         NaN         NaN          NaN          NaN           NaN         NaN  \n",
      "8         NaN         NaN          NaN          NaN           NaN         NaN  \n",
      "9         NaN         NaN          NaN          NaN           NaN         NaN  \n",
      "\n",
      "Shape after changes: (105, 14)\n"
     ]
    },
    {
     "name": "stderr",
     "output_type": "stream",
     "text": [
      "C:\\Users\\HomePC\\AppData\\Local\\Temp\\ipykernel_2384\\2327999358.py:10: FutureWarning: Setting an item of incompatible dtype is deprecated and will raise an error in a future version of pandas. Value '' has dtype incompatible with float64, please explicitly cast to a compatible dtype first.\n",
      "  mentorship.iloc[0:7, 12:14] = ''  # Assuming M is the 13th column (index 12) and N is the 14th (index 13)\n"
     ]
    }
   ],
   "source": [
    "import pandas as pd\n",
    "\n",
    "# Read the 'Mentorship' sheet\n",
    "mentorship = pd.read_excel('_Data Sets Reward_Program_Assignment_Input_v6 - TA.xlsx', sheet_name='Mentorship_Sessions')\n",
    "\n",
    "# Display the shape of the dataframe before changes\n",
    "print(\"Shape before changes:\", mentorship.shape)\n",
    "\n",
    "# Remove the VLOOKUP table (columns M and N, rows 1 to 7)\n",
    "mentorship.iloc[0:7, 12:14] = ''  # Assuming M is the 13th column (index 12) and N is the 14th (index 13)\n",
    "\n",
    "# Display the first few rows to verify the changes\n",
    "print(\"\\nFirst few rows after removing VLOOKUP table:\")\n",
    "print(mentorship.head(10))\n",
    "\n",
    "# Display the shape of the dataframe after changes\n",
    "print(\"\\nShape after changes:\", mentorship.shape)\n",
    "\n",
    "# Optionally, save the updated dataframe back to Excel\n",
    "# mentorship.to_excel('Updated_Mentorship_Data_Without_VLOOKUP.xlsx', index=False)"
   ]
  },
  {
   "cell_type": "code",
   "execution_count": 25,
   "metadata": {},
   "outputs": [
    {
     "name": "stdout",
     "output_type": "stream",
     "text": [
      "Shape before removing duplicates: (105, 14)\n",
      "Shape after removing duplicates: (105, 14)\n",
      "Number of duplicate rows removed: 0\n",
      "\n",
      "First few rows of deduplicated data:\n",
      "   Mentor_ID     Mentor_Name  Mentee_Name  Session_Number  \\\n",
      "0       1001     Sarah Clark    Bob Brown               1   \n",
      "1       1003     Emily Davis  Carol White               2   \n",
      "2       1005    James Wilson   Jane Smith               2   \n",
      "3       1003     Emily Davis    Bob Brown               1   \n",
      "4       1002  David Thompson   Jane Smith               2   \n",
      "\n",
      "   Session_Duration_Min Job_Info_Completed Session_Date  Points_Awarded  \\\n",
      "0                    40                Yes   2023-01-01             NaN   \n",
      "1                    30                Yes   2023-01-08             NaN   \n",
      "2                    40                Yes   2023-01-15             NaN   \n",
      "3                    30                 No   2023-01-29             NaN   \n",
      "4                    50                 No   2023-02-05             NaN   \n",
      "\n",
      "   Unnamed: 8  Unnamed: 9  Unnamed: 10  Unnamed: 11   Mentor_Name.1  \\\n",
      "0         NaN         NaN          NaN          NaN     Sarah Clark   \n",
      "1         NaN         NaN          NaN          NaN  David Thompson   \n",
      "2         NaN         NaN          NaN          NaN     Emily Davis   \n",
      "3         NaN         NaN          NaN          NaN     Michael Lee   \n",
      "4         NaN         NaN          NaN          NaN    James Wilson   \n",
      "\n",
      "   Mentor_ID.1  \n",
      "0       1001.0  \n",
      "1       1002.0  \n",
      "2       1003.0  \n",
      "3       1004.0  \n",
      "4       1005.0  \n"
     ]
    }
   ],
   "source": [
    "\n",
    "# Read the 'Mentorship' sheet\n",
    "mentorship = pd.read_excel('_Data Sets Reward_Program_Assignment_Input_v6 - TA.xlsx', sheet_name='Mentorship_Sessions')\n",
    "\n",
    "# Display the shape of the dataframe before removing duplicates\n",
    "print(\"Shape before removing duplicates:\", mentorship.shape)\n",
    "\n",
    "# Remove duplicates\n",
    "mentorship_no_duplicates = mentorship.drop_duplicates()\n",
    "\n",
    "# Display the shape of the dataframe after removing duplicates\n",
    "print(\"Shape after removing duplicates:\", mentorship_no_duplicates.shape)\n",
    "\n",
    "# Calculate the number of duplicates removed\n",
    "duplicates_removed = mentorship.shape[0] - mentorship_no_duplicates.shape[0]\n",
    "print(f\"Number of duplicate rows removed: {duplicates_removed}\")\n",
    "\n",
    "# Display the first few rows of the deduplicated dataframe\n",
    "print(\"\\nFirst few rows of deduplicated data:\")\n",
    "print(mentorship_no_duplicates.head())\n",
    "\n",
    "# Optionally, save the deduplicated data back to Excel\n",
    "# mentorship_no_duplicates.to_excel('Mentorship_Data_No_Duplicates.xlsx', index=False)"
   ]
  },
  {
   "cell_type": "code",
   "execution_count": 26,
   "metadata": {},
   "outputs": [
    {
     "name": "stdout",
     "output_type": "stream",
     "text": [
      "The cleaned datasets have been saved as:\n",
      "1. 'Cleaned_Data.xlsx' (contains both sheets)\n",
      "2. 'Cleaned_Mentorship_Data.csv'\n",
      "3. 'Cleaned_Reward_Data.csv'\n",
      "\n",
      "Files are saved in: c:\\Users\\HomePC\\Downloads\\Projects\\Data_assignment\n"
     ]
    }
   ],
   "source": [
    "import pandas as pd\n",
    "import os\n",
    "\n",
    "# Read and clean the Mentorship data (assuming you've already done the cleaning steps)\n",
    "mentorship = pd.read_excel('_Data Sets Reward_Program_Assignment_Input_v6 - TA.xlsx', sheet_name='Mentorship_Sessions')\n",
    "mentorship_clean = mentorship.drop_duplicates()\n",
    "\n",
    "# Read and clean the Reward data (assuming you've already done the cleaning steps)\n",
    "reward = pd.read_excel('_Data Sets Reward_Program_Assignment_Input_v6 - TA.xlsx', sheet_name='Raw_Reward_Data')\n",
    "reward_clean = reward.drop_duplicates()\n",
    "\n",
    "# Save both cleaned datasets to a new Excel file with multiple sheets\n",
    "with pd.ExcelWriter('Cleaned_Data.xlsx') as writer:\n",
    "    mentorship_clean.to_excel(writer, sheet_name='Cleaned_Mentorship', index=False)\n",
    "    reward_clean.to_excel(writer, sheet_name='Cleaned_Reward', index=False)\n",
    "\n",
    "# Optionally, save as CSV files\n",
    "mentorship_clean.to_csv('Cleaned_Mentorship_Data.csv', index=False)\n",
    "reward_clean.to_csv('Cleaned_Reward_Data.csv', index=False)\n",
    "\n",
    "print(\"The cleaned datasets have been saved as:\")\n",
    "print(\"1. 'Cleaned_Data.xlsx' (contains both sheets)\")\n",
    "print(\"2. 'Cleaned_Mentorship_Data.csv'\")\n",
    "print(\"3. 'Cleaned_Reward_Data.csv'\")\n",
    "\n",
    "# Print the current working directory\n",
    "print(\"\\nFiles are saved in:\", os.getcwd())"
   ]
  }
 ],
 "metadata": {
  "kernelspec": {
   "display_name": "Python-ds",
   "language": "python",
   "name": "python3"
  },
  "language_info": {
   "codemirror_mode": {
    "name": "ipython",
    "version": 3
   },
   "file_extension": ".py",
   "mimetype": "text/x-python",
   "name": "python",
   "nbconvert_exporter": "python",
   "pygments_lexer": "ipython3",
   "version": "3.12.3"
  }
 },
 "nbformat": 4,
 "nbformat_minor": 2
}
